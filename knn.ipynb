{
 "cells": [
  {
   "cell_type": "code",
   "execution_count": 1,
   "metadata": {
    "collapsed": true
   },
   "outputs": [],
   "source": [
    "import csv\n",
    "import numpy as np\n",
    "import pandas as pd\n",
    "import matplotlib.pyplot as plt\n",
    "from scipy.io import arff\n",
    "from sklearn.model_selection import train_test_split\n",
    "from sklearn.neighbors import KNeighborsClassifier\n",
    "from sklearn.metrics import classification_report, confusion_matrix, f1_score\n",
    "\n"
   ]
  },
  {
   "cell_type": "markdown",
   "source": [
    "Moving(1) and Static(0)\n",
    "Moving: Walking: A, Jogging: B, stairs: C, standing: E, kicking(Soccer Ball): M,\n",
    "Playing Catch w/Tennis Ball: O, Dribbling(Basketball): P\n"
   ],
   "metadata": {
    "collapsed": false
   }
  },
  {
   "cell_type": "code",
   "execution_count": 2,
   "outputs": [
    {
     "data": {
      "text/plain": "   \"ACTIVITY\"  \"X0\"  \"X1\"  \"X2\"   \"X3\"   \"X4\"   \"X5\"   \"X6\"   \"X7\"   \"X8\"  \\\n0           1   0.0   0.0   0.0  0.045  0.090  0.190  0.215  0.210  0.135   \n1           1   0.0   0.0   0.0  0.000  0.030  0.250  0.305  0.225  0.125   \n2           1   0.0   0.0   0.0  0.000  0.015  0.280  0.300  0.210  0.140   \n3           1   0.0   0.0   0.0  0.005  0.070  0.245  0.275  0.220  0.130   \n4           1   0.0   0.0   0.0  0.000  0.015  0.260  0.325  0.230  0.110   \n5           1   0.0   0.0   0.0  0.020  0.110  0.295  0.220  0.155  0.145   \n6           1   0.0   0.0   0.0  0.010  0.065  0.260  0.285  0.205  0.115   \n7           1   0.0   0.0   0.0  0.015  0.160  0.240  0.210  0.185  0.145   \n8           1   0.0   0.0   0.0  0.000  0.055  0.265  0.245  0.205  0.150   \n9           1   0.0   0.0   0.0  0.005  0.055  0.280  0.250  0.175  0.160   \n\n   ...  \"ZMFCC11\"  \"ZMFCC12\"   \"XYCOS\"   \"XZCOS\"   \"YZCOS\"   \"XYCOR\"  \\\n0  ...   0.504662   0.498178 -0.395887 -0.105039 -0.263814 -0.035912   \n1  ...   0.497101   0.490714 -0.517585 -0.493655  0.208926 -0.166636   \n2  ...   0.438027   0.432398 -0.573148 -0.468498  0.001704 -0.090878   \n3  ...   0.447493   0.441743 -0.514097 -0.232246 -0.080241 -0.117089   \n4  ...   0.433304   0.427736 -0.461254  0.084470 -0.418888 -0.097265   \n5  ...   0.513645   0.507045 -0.515503  0.254423 -0.287578 -0.091598   \n6  ...   0.416344   0.410994 -0.524796 -0.435362  0.113136 -0.115562   \n7  ...   0.482394   0.476195 -0.581123 -0.051553 -0.206350 -0.047448   \n8  ...   0.455328   0.449477 -0.386796 -0.360474 -0.012034 -0.038745   \n9  ...   0.436626   0.431015 -0.581727 -0.430234  0.047552 -0.096894   \n\n    \"XZCOR\"   \"YZCOR\"  \"RESULTANT\"  \"class\"  \n0 -0.305539 -0.292265      12.7783  b'1600'  \n1  0.071774 -0.070860      12.8712  b'1600'  \n2  0.005053 -0.382557      12.5949  b'1600'  \n3  0.137656 -0.265747      12.3521  b'1600'  \n4 -0.118795 -0.414198      12.4168  b'1600'  \n5 -0.164082 -0.152699      12.1479  b'1600'  \n6 -0.103565 -0.138754      12.0715  b'1600'  \n7 -0.350743 -0.212857      11.8520  b'1600'  \n8  0.035246 -0.190623      12.7896  b'1600'  \n9 -0.073358 -0.274483      12.3999  b'1600'  \n\n[10 rows x 93 columns]",
      "text/html": "<div>\n<style scoped>\n    .dataframe tbody tr th:only-of-type {\n        vertical-align: middle;\n    }\n\n    .dataframe tbody tr th {\n        vertical-align: top;\n    }\n\n    .dataframe thead th {\n        text-align: right;\n    }\n</style>\n<table border=\"1\" class=\"dataframe\">\n  <thead>\n    <tr style=\"text-align: right;\">\n      <th></th>\n      <th>\"ACTIVITY\"</th>\n      <th>\"X0\"</th>\n      <th>\"X1\"</th>\n      <th>\"X2\"</th>\n      <th>\"X3\"</th>\n      <th>\"X4\"</th>\n      <th>\"X5\"</th>\n      <th>\"X6\"</th>\n      <th>\"X7\"</th>\n      <th>\"X8\"</th>\n      <th>...</th>\n      <th>\"ZMFCC11\"</th>\n      <th>\"ZMFCC12\"</th>\n      <th>\"XYCOS\"</th>\n      <th>\"XZCOS\"</th>\n      <th>\"YZCOS\"</th>\n      <th>\"XYCOR\"</th>\n      <th>\"XZCOR\"</th>\n      <th>\"YZCOR\"</th>\n      <th>\"RESULTANT\"</th>\n      <th>\"class\"</th>\n    </tr>\n  </thead>\n  <tbody>\n    <tr>\n      <th>0</th>\n      <td>1</td>\n      <td>0.0</td>\n      <td>0.0</td>\n      <td>0.0</td>\n      <td>0.045</td>\n      <td>0.090</td>\n      <td>0.190</td>\n      <td>0.215</td>\n      <td>0.210</td>\n      <td>0.135</td>\n      <td>...</td>\n      <td>0.504662</td>\n      <td>0.498178</td>\n      <td>-0.395887</td>\n      <td>-0.105039</td>\n      <td>-0.263814</td>\n      <td>-0.035912</td>\n      <td>-0.305539</td>\n      <td>-0.292265</td>\n      <td>12.7783</td>\n      <td>b'1600'</td>\n    </tr>\n    <tr>\n      <th>1</th>\n      <td>1</td>\n      <td>0.0</td>\n      <td>0.0</td>\n      <td>0.0</td>\n      <td>0.000</td>\n      <td>0.030</td>\n      <td>0.250</td>\n      <td>0.305</td>\n      <td>0.225</td>\n      <td>0.125</td>\n      <td>...</td>\n      <td>0.497101</td>\n      <td>0.490714</td>\n      <td>-0.517585</td>\n      <td>-0.493655</td>\n      <td>0.208926</td>\n      <td>-0.166636</td>\n      <td>0.071774</td>\n      <td>-0.070860</td>\n      <td>12.8712</td>\n      <td>b'1600'</td>\n    </tr>\n    <tr>\n      <th>2</th>\n      <td>1</td>\n      <td>0.0</td>\n      <td>0.0</td>\n      <td>0.0</td>\n      <td>0.000</td>\n      <td>0.015</td>\n      <td>0.280</td>\n      <td>0.300</td>\n      <td>0.210</td>\n      <td>0.140</td>\n      <td>...</td>\n      <td>0.438027</td>\n      <td>0.432398</td>\n      <td>-0.573148</td>\n      <td>-0.468498</td>\n      <td>0.001704</td>\n      <td>-0.090878</td>\n      <td>0.005053</td>\n      <td>-0.382557</td>\n      <td>12.5949</td>\n      <td>b'1600'</td>\n    </tr>\n    <tr>\n      <th>3</th>\n      <td>1</td>\n      <td>0.0</td>\n      <td>0.0</td>\n      <td>0.0</td>\n      <td>0.005</td>\n      <td>0.070</td>\n      <td>0.245</td>\n      <td>0.275</td>\n      <td>0.220</td>\n      <td>0.130</td>\n      <td>...</td>\n      <td>0.447493</td>\n      <td>0.441743</td>\n      <td>-0.514097</td>\n      <td>-0.232246</td>\n      <td>-0.080241</td>\n      <td>-0.117089</td>\n      <td>0.137656</td>\n      <td>-0.265747</td>\n      <td>12.3521</td>\n      <td>b'1600'</td>\n    </tr>\n    <tr>\n      <th>4</th>\n      <td>1</td>\n      <td>0.0</td>\n      <td>0.0</td>\n      <td>0.0</td>\n      <td>0.000</td>\n      <td>0.015</td>\n      <td>0.260</td>\n      <td>0.325</td>\n      <td>0.230</td>\n      <td>0.110</td>\n      <td>...</td>\n      <td>0.433304</td>\n      <td>0.427736</td>\n      <td>-0.461254</td>\n      <td>0.084470</td>\n      <td>-0.418888</td>\n      <td>-0.097265</td>\n      <td>-0.118795</td>\n      <td>-0.414198</td>\n      <td>12.4168</td>\n      <td>b'1600'</td>\n    </tr>\n    <tr>\n      <th>5</th>\n      <td>1</td>\n      <td>0.0</td>\n      <td>0.0</td>\n      <td>0.0</td>\n      <td>0.020</td>\n      <td>0.110</td>\n      <td>0.295</td>\n      <td>0.220</td>\n      <td>0.155</td>\n      <td>0.145</td>\n      <td>...</td>\n      <td>0.513645</td>\n      <td>0.507045</td>\n      <td>-0.515503</td>\n      <td>0.254423</td>\n      <td>-0.287578</td>\n      <td>-0.091598</td>\n      <td>-0.164082</td>\n      <td>-0.152699</td>\n      <td>12.1479</td>\n      <td>b'1600'</td>\n    </tr>\n    <tr>\n      <th>6</th>\n      <td>1</td>\n      <td>0.0</td>\n      <td>0.0</td>\n      <td>0.0</td>\n      <td>0.010</td>\n      <td>0.065</td>\n      <td>0.260</td>\n      <td>0.285</td>\n      <td>0.205</td>\n      <td>0.115</td>\n      <td>...</td>\n      <td>0.416344</td>\n      <td>0.410994</td>\n      <td>-0.524796</td>\n      <td>-0.435362</td>\n      <td>0.113136</td>\n      <td>-0.115562</td>\n      <td>-0.103565</td>\n      <td>-0.138754</td>\n      <td>12.0715</td>\n      <td>b'1600'</td>\n    </tr>\n    <tr>\n      <th>7</th>\n      <td>1</td>\n      <td>0.0</td>\n      <td>0.0</td>\n      <td>0.0</td>\n      <td>0.015</td>\n      <td>0.160</td>\n      <td>0.240</td>\n      <td>0.210</td>\n      <td>0.185</td>\n      <td>0.145</td>\n      <td>...</td>\n      <td>0.482394</td>\n      <td>0.476195</td>\n      <td>-0.581123</td>\n      <td>-0.051553</td>\n      <td>-0.206350</td>\n      <td>-0.047448</td>\n      <td>-0.350743</td>\n      <td>-0.212857</td>\n      <td>11.8520</td>\n      <td>b'1600'</td>\n    </tr>\n    <tr>\n      <th>8</th>\n      <td>1</td>\n      <td>0.0</td>\n      <td>0.0</td>\n      <td>0.0</td>\n      <td>0.000</td>\n      <td>0.055</td>\n      <td>0.265</td>\n      <td>0.245</td>\n      <td>0.205</td>\n      <td>0.150</td>\n      <td>...</td>\n      <td>0.455328</td>\n      <td>0.449477</td>\n      <td>-0.386796</td>\n      <td>-0.360474</td>\n      <td>-0.012034</td>\n      <td>-0.038745</td>\n      <td>0.035246</td>\n      <td>-0.190623</td>\n      <td>12.7896</td>\n      <td>b'1600'</td>\n    </tr>\n    <tr>\n      <th>9</th>\n      <td>1</td>\n      <td>0.0</td>\n      <td>0.0</td>\n      <td>0.0</td>\n      <td>0.005</td>\n      <td>0.055</td>\n      <td>0.280</td>\n      <td>0.250</td>\n      <td>0.175</td>\n      <td>0.160</td>\n      <td>...</td>\n      <td>0.436626</td>\n      <td>0.431015</td>\n      <td>-0.581727</td>\n      <td>-0.430234</td>\n      <td>0.047552</td>\n      <td>-0.096894</td>\n      <td>-0.073358</td>\n      <td>-0.274483</td>\n      <td>12.3999</td>\n      <td>b'1600'</td>\n    </tr>\n  </tbody>\n</table>\n<p>10 rows × 93 columns</p>\n</div>"
     },
     "execution_count": 2,
     "metadata": {},
     "output_type": "execute_result"
    }
   ],
   "source": [
    "input = pd.read_csv('data_1600_accel_watch.csv')\n",
    "input.dtypes\n",
    "input.head(10)"
   ],
   "metadata": {
    "collapsed": false,
    "pycharm": {
     "name": "#%%\n"
    }
   }
  },
  {
   "cell_type": "code",
   "execution_count": 3,
   "outputs": [
    {
     "data": {
      "text/plain": "     \"ACTIVITY\"   \"X0\"   \"X1\"   \"X2\"   \"X3\"  \"X4\"  \"X5\"  \"X6\"  \"X7\"   \"X8\"  \\\n56            0  0.000  0.000  0.015  0.985  0.00   0.0  0.00  0.00  0.000   \n212           0  1.000  0.000  0.000  0.000  0.00   0.0  0.00  0.00  0.000   \n176           0  0.805  0.195  0.000  0.000  0.00   0.0  0.00  0.00  0.000   \n210           0  1.000  0.000  0.000  0.000  0.00   0.0  0.00  0.00  0.000   \n76            1  0.000  0.000  0.000  0.000  0.00   1.0  0.00  0.00  0.000   \n59            0  0.000  0.000  0.000  1.000  0.00   0.0  0.00  0.00  0.000   \n167           0  0.710  0.290  0.000  0.000  0.00   0.0  0.00  0.00  0.000   \n209           0  1.000  0.000  0.000  0.000  0.00   0.0  0.00  0.00  0.000   \n300           0  0.995  0.005  0.000  0.000  0.00   0.0  0.00  0.00  0.000   \n28            1  0.345  0.090  0.095  0.130  0.12   0.1  0.07  0.03  0.005   \n\n     ...  \"ZMFCC11\"  \"ZMFCC12\"   \"XYCOS\"   \"XZCOS\"   \"YZCOS\"   \"XYCOR\"  \\\n56   ...   0.443406   0.437708 -0.992213  0.999235 -0.989603 -0.616575   \n212  ...   0.313039   0.309016  0.905666 -0.858338 -0.656193 -0.608446   \n176  ...   0.469680   0.463645  0.922185 -0.566562 -0.461760  0.494817   \n210  ...   0.374168   0.369360  0.905275 -0.879935 -0.768803 -0.457464   \n76   ...  -0.101097  -0.099798 -0.990698  0.953070 -0.936131  0.169207   \n59   ...   0.439893   0.434241 -0.999665  0.999938 -0.999664 -0.091099   \n167  ...   0.428467   0.422961  0.890964 -0.605268 -0.568398  0.283932   \n209  ...   0.359606   0.354985  0.918335 -0.893009 -0.768904 -0.612768   \n300  ...   0.644247   0.635968  0.134217 -0.574780 -0.497846 -0.661749   \n28   ...   0.584510   0.576999 -0.144565  0.196959  0.183389 -0.038380   \n\n      \"XZCOR\"   \"YZCOR\"  \"RESULTANT\"  \"class\"  \n56   0.208635 -0.215926      9.79994  b'1600'  \n212 -0.185603  0.805813      9.57135  b'1600'  \n176  0.792564  0.871491      9.58495  b'1600'  \n210  0.286549  0.688194      9.55378  b'1600'  \n76   0.006552  0.201425      9.65884  b'1600'  \n59  -0.090464  0.223157      9.78643  b'1600'  \n167  0.736353  0.743472      9.60389  b'1600'  \n209  0.019030  0.722622      9.56127  b'1600'  \n300  0.476901 -0.418269     10.78250  b'1600'  \n28   0.216055  0.169499     13.76540  b'1600'  \n\n[10 rows x 93 columns]",
      "text/html": "<div>\n<style scoped>\n    .dataframe tbody tr th:only-of-type {\n        vertical-align: middle;\n    }\n\n    .dataframe tbody tr th {\n        vertical-align: top;\n    }\n\n    .dataframe thead th {\n        text-align: right;\n    }\n</style>\n<table border=\"1\" class=\"dataframe\">\n  <thead>\n    <tr style=\"text-align: right;\">\n      <th></th>\n      <th>\"ACTIVITY\"</th>\n      <th>\"X0\"</th>\n      <th>\"X1\"</th>\n      <th>\"X2\"</th>\n      <th>\"X3\"</th>\n      <th>\"X4\"</th>\n      <th>\"X5\"</th>\n      <th>\"X6\"</th>\n      <th>\"X7\"</th>\n      <th>\"X8\"</th>\n      <th>...</th>\n      <th>\"ZMFCC11\"</th>\n      <th>\"ZMFCC12\"</th>\n      <th>\"XYCOS\"</th>\n      <th>\"XZCOS\"</th>\n      <th>\"YZCOS\"</th>\n      <th>\"XYCOR\"</th>\n      <th>\"XZCOR\"</th>\n      <th>\"YZCOR\"</th>\n      <th>\"RESULTANT\"</th>\n      <th>\"class\"</th>\n    </tr>\n  </thead>\n  <tbody>\n    <tr>\n      <th>56</th>\n      <td>0</td>\n      <td>0.000</td>\n      <td>0.000</td>\n      <td>0.015</td>\n      <td>0.985</td>\n      <td>0.00</td>\n      <td>0.0</td>\n      <td>0.00</td>\n      <td>0.00</td>\n      <td>0.000</td>\n      <td>...</td>\n      <td>0.443406</td>\n      <td>0.437708</td>\n      <td>-0.992213</td>\n      <td>0.999235</td>\n      <td>-0.989603</td>\n      <td>-0.616575</td>\n      <td>0.208635</td>\n      <td>-0.215926</td>\n      <td>9.79994</td>\n      <td>b'1600'</td>\n    </tr>\n    <tr>\n      <th>212</th>\n      <td>0</td>\n      <td>1.000</td>\n      <td>0.000</td>\n      <td>0.000</td>\n      <td>0.000</td>\n      <td>0.00</td>\n      <td>0.0</td>\n      <td>0.00</td>\n      <td>0.00</td>\n      <td>0.000</td>\n      <td>...</td>\n      <td>0.313039</td>\n      <td>0.309016</td>\n      <td>0.905666</td>\n      <td>-0.858338</td>\n      <td>-0.656193</td>\n      <td>-0.608446</td>\n      <td>-0.185603</td>\n      <td>0.805813</td>\n      <td>9.57135</td>\n      <td>b'1600'</td>\n    </tr>\n    <tr>\n      <th>176</th>\n      <td>0</td>\n      <td>0.805</td>\n      <td>0.195</td>\n      <td>0.000</td>\n      <td>0.000</td>\n      <td>0.00</td>\n      <td>0.0</td>\n      <td>0.00</td>\n      <td>0.00</td>\n      <td>0.000</td>\n      <td>...</td>\n      <td>0.469680</td>\n      <td>0.463645</td>\n      <td>0.922185</td>\n      <td>-0.566562</td>\n      <td>-0.461760</td>\n      <td>0.494817</td>\n      <td>0.792564</td>\n      <td>0.871491</td>\n      <td>9.58495</td>\n      <td>b'1600'</td>\n    </tr>\n    <tr>\n      <th>210</th>\n      <td>0</td>\n      <td>1.000</td>\n      <td>0.000</td>\n      <td>0.000</td>\n      <td>0.000</td>\n      <td>0.00</td>\n      <td>0.0</td>\n      <td>0.00</td>\n      <td>0.00</td>\n      <td>0.000</td>\n      <td>...</td>\n      <td>0.374168</td>\n      <td>0.369360</td>\n      <td>0.905275</td>\n      <td>-0.879935</td>\n      <td>-0.768803</td>\n      <td>-0.457464</td>\n      <td>0.286549</td>\n      <td>0.688194</td>\n      <td>9.55378</td>\n      <td>b'1600'</td>\n    </tr>\n    <tr>\n      <th>76</th>\n      <td>1</td>\n      <td>0.000</td>\n      <td>0.000</td>\n      <td>0.000</td>\n      <td>0.000</td>\n      <td>0.00</td>\n      <td>1.0</td>\n      <td>0.00</td>\n      <td>0.00</td>\n      <td>0.000</td>\n      <td>...</td>\n      <td>-0.101097</td>\n      <td>-0.099798</td>\n      <td>-0.990698</td>\n      <td>0.953070</td>\n      <td>-0.936131</td>\n      <td>0.169207</td>\n      <td>0.006552</td>\n      <td>0.201425</td>\n      <td>9.65884</td>\n      <td>b'1600'</td>\n    </tr>\n    <tr>\n      <th>59</th>\n      <td>0</td>\n      <td>0.000</td>\n      <td>0.000</td>\n      <td>0.000</td>\n      <td>1.000</td>\n      <td>0.00</td>\n      <td>0.0</td>\n      <td>0.00</td>\n      <td>0.00</td>\n      <td>0.000</td>\n      <td>...</td>\n      <td>0.439893</td>\n      <td>0.434241</td>\n      <td>-0.999665</td>\n      <td>0.999938</td>\n      <td>-0.999664</td>\n      <td>-0.091099</td>\n      <td>-0.090464</td>\n      <td>0.223157</td>\n      <td>9.78643</td>\n      <td>b'1600'</td>\n    </tr>\n    <tr>\n      <th>167</th>\n      <td>0</td>\n      <td>0.710</td>\n      <td>0.290</td>\n      <td>0.000</td>\n      <td>0.000</td>\n      <td>0.00</td>\n      <td>0.0</td>\n      <td>0.00</td>\n      <td>0.00</td>\n      <td>0.000</td>\n      <td>...</td>\n      <td>0.428467</td>\n      <td>0.422961</td>\n      <td>0.890964</td>\n      <td>-0.605268</td>\n      <td>-0.568398</td>\n      <td>0.283932</td>\n      <td>0.736353</td>\n      <td>0.743472</td>\n      <td>9.60389</td>\n      <td>b'1600'</td>\n    </tr>\n    <tr>\n      <th>209</th>\n      <td>0</td>\n      <td>1.000</td>\n      <td>0.000</td>\n      <td>0.000</td>\n      <td>0.000</td>\n      <td>0.00</td>\n      <td>0.0</td>\n      <td>0.00</td>\n      <td>0.00</td>\n      <td>0.000</td>\n      <td>...</td>\n      <td>0.359606</td>\n      <td>0.354985</td>\n      <td>0.918335</td>\n      <td>-0.893009</td>\n      <td>-0.768904</td>\n      <td>-0.612768</td>\n      <td>0.019030</td>\n      <td>0.722622</td>\n      <td>9.56127</td>\n      <td>b'1600'</td>\n    </tr>\n    <tr>\n      <th>300</th>\n      <td>0</td>\n      <td>0.995</td>\n      <td>0.005</td>\n      <td>0.000</td>\n      <td>0.000</td>\n      <td>0.00</td>\n      <td>0.0</td>\n      <td>0.00</td>\n      <td>0.00</td>\n      <td>0.000</td>\n      <td>...</td>\n      <td>0.644247</td>\n      <td>0.635968</td>\n      <td>0.134217</td>\n      <td>-0.574780</td>\n      <td>-0.497846</td>\n      <td>-0.661749</td>\n      <td>0.476901</td>\n      <td>-0.418269</td>\n      <td>10.78250</td>\n      <td>b'1600'</td>\n    </tr>\n    <tr>\n      <th>28</th>\n      <td>1</td>\n      <td>0.345</td>\n      <td>0.090</td>\n      <td>0.095</td>\n      <td>0.130</td>\n      <td>0.12</td>\n      <td>0.1</td>\n      <td>0.07</td>\n      <td>0.03</td>\n      <td>0.005</td>\n      <td>...</td>\n      <td>0.584510</td>\n      <td>0.576999</td>\n      <td>-0.144565</td>\n      <td>0.196959</td>\n      <td>0.183389</td>\n      <td>-0.038380</td>\n      <td>0.216055</td>\n      <td>0.169499</td>\n      <td>13.76540</td>\n      <td>b'1600'</td>\n    </tr>\n  </tbody>\n</table>\n<p>10 rows × 93 columns</p>\n</div>"
     },
     "execution_count": 3,
     "metadata": {},
     "output_type": "execute_result"
    }
   ],
   "source": [
    "input = input.sample(frac = 1)\n",
    "input.head(10)"
   ],
   "metadata": {
    "collapsed": false,
    "pycharm": {
     "name": "#%% randomize dataset\n"
    }
   }
  },
  {
   "cell_type": "code",
   "execution_count": 4,
   "outputs": [],
   "source": [
    "Y = input.iloc[:,0].values\n",
    "X = input.iloc[:, 1:92].values\n",
    "X_train, X_test, Y_train, Y_test = train_test_split(X, Y, test_size=0.2, random_state=4)"
   ],
   "metadata": {
    "collapsed": false,
    "pycharm": {
     "name": "#%% split dataset into train and test\n"
    }
   }
  },
  {
   "cell_type": "code",
   "execution_count": 5,
   "outputs": [],
   "source": [
    "def knn_classifier(X_train, Y_train, X_test, n_neighbors):\n",
    "    classifier =  KNeighborsClassifier(n_neighbors = n_neighbors)\n",
    "    classifier.fit(X_train, Y_train)\n",
    "    Y_pred = classifier.predict(X_test)\n",
    "    return Y_pred"
   ],
   "metadata": {
    "collapsed": false,
    "pycharm": {
     "name": "#%%\n"
    }
   }
  },
  {
   "cell_type": "code",
   "execution_count": 6,
   "outputs": [],
   "source": [
    "Y_train.reshape(-1,1)\n",
    "Y_test.reshape(-1,1)\n",
    "\n",
    "f1=[]\n",
    "\n",
    "for i in range (5, 260, 5):\n",
    "    X_train_stream = X_train[0:i,:]\n",
    "    Y_train_stream = Y_train[0:i]\n",
    "    Y_pred = knn_classifier(X_train_stream, Y_train_stream, X_test, n_neighbors=5)\n",
    "    # print(f1_score(Y_test, Y_pred, average='weighted'))\n",
    "    f1.append(f1_score(Y_test, Y_pred, average='weighted'))"
   ],
   "metadata": {
    "collapsed": false,
    "pycharm": {
     "name": "#%%\n"
    }
   }
  },
  {
   "cell_type": "code",
   "execution_count": 7,
   "outputs": [
    {
     "data": {
      "text/plain": "Text(0, 0.5, 'f1 score')"
     },
     "execution_count": 7,
     "metadata": {},
     "output_type": "execute_result"
    },
    {
     "data": {
      "text/plain": "<Figure size 864x432 with 1 Axes>",
      "image/png": "[encoded data removed]"
     },
     "metadata": {
      "needs_background": "light"
     },
     "output_type": "display_data"
    }
   ],
   "source": [
    "\n",
    "plt.figure(figsize=(12, 6))\n",
    "plt.plot(range(5, 260, 5), f1, color='red', linestyle='dashed', marker='^',\n",
    "         markerfacecolor='green', markersize=10)\n",
    "plt.title('dataset')\n",
    "plt.xlabel('number of training sample')\n",
    "plt.ylabel('f1 score')"
   ],
   "metadata": {
    "collapsed": false,
    "pycharm": {
     "name": "#%%\n"
    }
   }
  },
  {
   "cell_type": "code",
   "execution_count": 8,
   "outputs": [
    {
     "name": "stdout",
     "output_type": "stream",
     "text": [
      "[[36  1]\n",
      " [ 0 29]]\n",
      "              precision    recall  f1-score   support\n",
      "\n",
      "           0       1.00      0.97      0.99        37\n",
      "           1       0.97      1.00      0.98        29\n",
      "\n",
      "    accuracy                           0.98        66\n",
      "   macro avg       0.98      0.99      0.98        66\n",
      "weighted avg       0.99      0.98      0.98        66\n",
      "\n"
     ]
    }
   ],
   "source": [
    "Y_pred = knn_classifier(X_train_stream, Y_train_stream, X_test, n_neighbors=5)\n",
    "print(confusion_matrix(Y_test, Y_pred))\n",
    "print(classification_report(Y_test,Y_pred))"
   ],
   "metadata": {
    "collapsed": false,
    "pycharm": {
     "name": "#%%\n"
    }
   }
  },
  {
   "cell_type": "code",
   "execution_count": 9,
   "outputs": [],
   "source": [
    "# error = []\n",
    "#\n",
    "# # Calculating error for K values between 1 and 40\n",
    "# for i in range(1, 40):\n",
    "#     knn = KNeighborsClassifier(n_neighbors=i)\n",
    "#     knn.fit(X_train, Y_train)\n",
    "#     pred_i = knn.predict(X_test)\n",
    "#     error.append(np.mean(pred_i != Y_test))"
   ],
   "metadata": {
    "collapsed": false,
    "pycharm": {
     "name": "#%%\n"
    }
   }
  },
  {
   "cell_type": "code",
   "execution_count": 10,
   "outputs": [],
   "source": [
    "# plt.figure(figsize=(12, 6))\n",
    "# plt.plot(range(1, 40), error, color='red', linestyle='dashed', marker='o',\n",
    "#          markerfacecolor='blue', markersize=10)\n",
    "# plt.title('Error Rate K Value')\n",
    "# plt.xlabel('K Value')\n",
    "# plt.ylabel('Mean Error')"
   ],
   "metadata": {
    "collapsed": false,
    "pycharm": {
     "name": "#%%\n"
    }
   }
  }
 ],
 "metadata": {
  "kernelspec": {
   "display_name": "Python 3",
   "language": "python",
   "name": "python3"
  },
  "language_info": {
   "codemirror_mode": {
    "name": "ipython",
    "version": 2
   },
   "file_extension": ".py",
   "mimetype": "text/x-python",
   "name": "python",
   "nbconvert_exporter": "python",
   "pygments_lexer": "ipython2",
   "version": "2.7.6"
  }
 },
 "nbformat": 4,
 "nbformat_minor": 0
}